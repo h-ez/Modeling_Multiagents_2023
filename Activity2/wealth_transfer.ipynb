{
  "nbformat": 4,
  "nbformat_minor": 0,
  "metadata": {
    "colab": {
      "provenance": []
    },
    "kernelspec": {
      "name": "python3",
      "display_name": "Python 3"
    },
    "language_info": {
      "name": "python"
    }
  },
  "cells": [
    {
      "cell_type": "markdown",
      "source": [
        "Activity 2 - Modeling Intelligent Agents\n",
        "\n",
        "*   Wealth Transfer Model\n",
        "\n"
      ],
      "metadata": {
        "id": "ilbI2ThXevkt"
      }
    },
    {
      "cell_type": "code",
      "source": [
        "import agentpy as ap\n",
        "import numpy as np\n",
        "\n",
        "# Visualization\n",
        "import matplotlib.pyplot as plt\n",
        "import seaborn as sns\n",
        "\n",
        "class WealthAgent(ap.Agent):\n",
        "\n",
        "    \"\"\" An agent with wealth \"\"\"\n",
        "\n",
        "    def setup(self):\n",
        "        self.wealth = 1\n",
        "        self.internal_states = {'action_count': 0, 'wealth_history': []}\n",
        "\n",
        "    def see(self):\n",
        "        # The agent observes its own wealth\n",
        "        return {'wealth': self.wealth}\n",
        "\n",
        "    def next(self, neighbors):\n",
        "        # The agent selects a random neighbor as a partner for wealth transfer\n",
        "        partner = self.model.agents.random()\n",
        "        return partner\n",
        "\n",
        "    def action(self, partner):\n",
        "        # The agent performs the wealth transfer action\n",
        "        if self.wealth > 0:\n",
        "            partner.wealth += 1\n",
        "            self.wealth -= 1\n",
        "            self.internal_states['action_count'] += 1\n",
        "\n",
        "def gini(x):\n",
        "    \"\"\" Calculate Gini Coefficient \"\"\"\n",
        "    x = np.array(x)\n",
        "    mad = np.abs(np.subtract.outer(x, x)).mean()  # Mean absolute difference\n",
        "    rmad = mad / np.mean(x)  # Relative mean absolute difference\n",
        "    return 0.5 * rmad\n",
        "\n",
        "class WealthModel(ap.Model):\n",
        "\n",
        "    \"\"\" A simple model of random wealth transfers \"\"\"\n",
        "\n",
        "    def setup(self):\n",
        "        self.agents = ap.AgentList(self, self.p.agents, WealthAgent)\n",
        "\n",
        "    def step(self):\n",
        "        for agent in self.agents:\n",
        "            partner = agent.next(self.agents)  # Each agent selects a partner\n",
        "            agent.action(partner)  # Perform the wealth transfer action\n",
        "\n",
        "    def update(self):\n",
        "        # Calculate Gini coefficient and record it at the model level\n",
        "        gini_coefficient = gini(self.agents.wealth)\n",
        "        self.record('Gini Coefficient', gini_coefficient)\n",
        "\n",
        "    def utility(self):\n",
        "        # A utility function to access the internal states of agents\n",
        "        action_counts = [agent.internal_states['action_count'] for agent in self.agents]\n",
        "        wealth_history = [agent.internal_states['wealth_history'] for agent in self.agents]\n",
        "        return {\n",
        "            'action_counts': action_counts,\n",
        "            'wealth_history': wealth_history,\n",
        "        }\n",
        "\n",
        "    def plot_agent_utilities(self):\n",
        "        agent_utility = self.utility()\n",
        "        action_counts = agent_utility['action_counts']\n",
        "\n",
        "        plt.figure(figsize=(10, 5))\n",
        "        plt.hist(action_counts, bins=range(0, max(action_counts) + 1), alpha=0.7)\n",
        "        plt.title('Agent Action Counts')\n",
        "        plt.xlabel('Action Count')\n",
        "        plt.ylabel('Number of Agents')\n",
        "        plt.show()\n",
        "\n",
        "parameters = {\n",
        "    'agents': 100,\n",
        "    'steps': 100,\n",
        "    'seed': 42,\n",
        "}\n",
        "\n",
        "model = WealthModel(parameters)\n",
        "results = model.run()\n",
        "\n",
        "# Access agent utility function and internal states\n",
        "agent_utility = model.utility()\n",
        "\n",
        "#Access the action counts of agents\n",
        "action_counts = agent_utility['action_counts']\n",
        "print(\"Action Counts of Agents:\", action_counts)\n"
      ],
      "metadata": {
        "colab": {
          "base_uri": "https://localhost:8080/"
        },
        "id": "tZYqCQu9h_B9",
        "outputId": "61d976d1-4cb3-4c88-8c29-481f97d1ebea"
      },
      "execution_count": 15,
      "outputs": [
        {
          "output_type": "stream",
          "name": "stdout",
          "text": [
            "\rCompleted: 1 steps\rCompleted: 2 steps\rCompleted: 3 steps\rCompleted: 4 steps\rCompleted: 5 steps\rCompleted: 6 steps\rCompleted: 7 steps\rCompleted: 8 steps\rCompleted: 9 steps\rCompleted: 10 steps\rCompleted: 11 steps\rCompleted: 12 steps\rCompleted: 13 steps\rCompleted: 14 steps\rCompleted: 15 steps\rCompleted: 16 steps\rCompleted: 17 steps\rCompleted: 18 steps\rCompleted: 19 steps\rCompleted: 20 steps\rCompleted: 21 steps\rCompleted: 22 steps\rCompleted: 23 steps\rCompleted: 24 steps\rCompleted: 25 steps\rCompleted: 26 steps\rCompleted: 27 steps\rCompleted: 28 steps\rCompleted: 29 steps\rCompleted: 30 steps\rCompleted: 31 steps\rCompleted: 32 steps\rCompleted: 33 steps\rCompleted: 34 steps\rCompleted: 35 steps\rCompleted: 36 steps\rCompleted: 37 steps\rCompleted: 38 steps\rCompleted: 39 steps\rCompleted: 40 steps\rCompleted: 41 steps\rCompleted: 42 steps\rCompleted: 43 steps\rCompleted: 44 steps\rCompleted: 45 steps\rCompleted: 46 steps\rCompleted: 47 steps\rCompleted: 48 steps\rCompleted: 49 steps\rCompleted: 50 steps\rCompleted: 51 steps\rCompleted: 52 steps\rCompleted: 53 steps\rCompleted: 54 steps\rCompleted: 55 steps\rCompleted: 56 steps\rCompleted: 57 steps\rCompleted: 58 steps\rCompleted: 59 steps\rCompleted: 60 steps\rCompleted: 61 steps\rCompleted: 62 steps\rCompleted: 63 steps\rCompleted: 64 steps\rCompleted: 65 steps\rCompleted: 66 steps\rCompleted: 67 steps\rCompleted: 68 steps\rCompleted: 69 steps\rCompleted: 70 steps\rCompleted: 71 steps\rCompleted: 72 steps\rCompleted: 73 steps\rCompleted: 74 steps\rCompleted: 75 steps\rCompleted: 76 steps\rCompleted: 77 steps\rCompleted: 78 steps\rCompleted: 79 steps\rCompleted: 80 steps\rCompleted: 81 steps\rCompleted: 82 steps\rCompleted: 83 steps\rCompleted: 84 steps\rCompleted: 85 steps\rCompleted: 86 steps\rCompleted: 87 steps\rCompleted: 88 steps\rCompleted: 89 steps\rCompleted: 90 steps\rCompleted: 91 steps\rCompleted: 92 steps\rCompleted: 93 steps\rCompleted: 94 steps\rCompleted: 95 steps\rCompleted: 96 steps\rCompleted: 97 steps\rCompleted: 98 steps\rCompleted: 99 steps\rCompleted: 100 steps\n",
            "Run time: 0:00:00.133011\n",
            "Simulation finished\n",
            "Action Counts of Agents: [54, 64, 51, 64, 62, 74, 68, 73, 61, 67, 71, 83, 70, 76, 61, 73, 73, 79, 55, 76, 76, 68, 76, 47, 60, 62, 60, 65, 80, 62, 79, 69, 55, 66, 69, 73, 69, 63, 68, 64, 68, 63, 63, 60, 55, 64, 70, 64, 67, 72, 64, 53, 69, 75, 64, 60, 74, 69, 87, 53, 74, 64, 64, 64, 74, 63, 55, 64, 79, 65, 84, 68, 66, 78, 68, 73, 72, 60, 75, 55, 69, 71, 73, 69, 78, 61, 72, 74, 88, 76, 74, 52, 64, 67, 65, 70, 69, 63, 82, 70]\n"
          ]
        }
      ]
    },
    {
      "cell_type": "code",
      "source": [
        "model.plot_agent_utilities()"
      ],
      "metadata": {
        "colab": {
          "base_uri": "https://localhost:8080/",
          "height": 487
        },
        "id": "vMQySDxGirxM",
        "outputId": "035452f3-7266-4f77-b678-ad4d4cff1054"
      },
      "execution_count": 16,
      "outputs": [
        {
          "output_type": "display_data",
          "data": {
            "text/plain": [
              "<Figure size 1000x500 with 1 Axes>"
            ],
            "image/png": "[encoded data removed]"
          },
          "metadata": {}
        }
      ]
    }
  ]
}